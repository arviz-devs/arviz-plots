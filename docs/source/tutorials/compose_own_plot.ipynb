{
 "cells": [
  {
   "cell_type": "markdown",
   "id": "06954271-7cc3-4651-9d1b-27352bbd0372",
   "metadata": {},
   "source": [
    "(compose_own_plot)=\n",
    "# Create your own chart with `PlotCollection`\n",
    "\n",
    ":::{warning} work in progress\n",
    ":::"
   ]
  },
  {
   "cell_type": "code",
   "execution_count": null,
   "id": "2d163d20-7725-4b21-8f41-448f8ba06691",
   "metadata": {},
   "outputs": [],
   "source": []
  }
 ],
 "metadata": {
  "kernelspec": {
   "display_name": "ArviZ (minimal env)",
   "language": "python",
   "name": "arviz"
  },
  "language_info": {
   "codemirror_mode": {
    "name": "ipython",
    "version": 3
   },
   "file_extension": ".py",
   "mimetype": "text/x-python",
   "name": "python",
   "nbconvert_exporter": "python",
   "pygments_lexer": "ipython3",
   "version": "3.11.7"
  }
 },
 "nbformat": 4,
 "nbformat_minor": 5
}
